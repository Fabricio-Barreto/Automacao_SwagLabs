{
 "cells": [
  {
   "cell_type": "code",
   "execution_count": 1,
   "id": "c882657f",
   "metadata": {},
   "outputs": [],
   "source": [
    "from selenium import webdriver\n",
    "from webdriver_manager.chrome import ChromeDriverManager\n",
    "from selenium.webdriver.chrome.service import Service\n",
    "\n",
    "service = Service(ChromeDriverManager().install())\n",
    "\n",
    "browser = webdriver.Chrome(service=service)"
   ]
  },
  {
   "cell_type": "code",
   "execution_count": 2,
   "id": "0db6d420",
   "metadata": {},
   "outputs": [
    {
     "name": "stdout",
     "output_type": "stream",
     "text": [
      "['ï»¿Login', 'Senha', 'first_name', 'last_name', 'zip']\n",
      "['standard_user', 'secret_sauce', 'Fabricio', 'Barreto Nogueira', '72210-184']\n",
      "['locked_out_user', 'secret_sauce', 'Fabricio', 'Barreto Nogueira', '72210-184']\n",
      "['problem_user', 'secret_sauce', 'Fabricio', 'Barreto Nogueira', '72210-184']\n",
      "['performance_glitch_user', 'secret_sauce', 'Fabricio', 'Barreto Nogueira', '72210-184']\n",
      "['error_user', 'secret_sauce', 'Fabricio', 'Barreto Nogueira', '72210-184']\n",
      "['visual_user', 'secret_sauce', 'Fabricio', 'Barreto Nogueira', '72210-184']\n"
     ]
    }
   ],
   "source": [
    "# Pegando as informações de login e senha de um arquivo CSV\n",
    "import csv\n",
    "\n",
    "lines = []\n",
    "\n",
    "with open(\"dados.csv\", \"r\") as file:\n",
    "    file_csv = csv.reader(file, delimiter=\",\")\n",
    "    for line in file_csv:\n",
    "        lines.append(line)\n",
    "        print(line)"
   ]
  },
  {
   "cell_type": "code",
   "execution_count": 3,
   "id": "d463b3bf",
   "metadata": {},
   "outputs": [],
   "source": [
    "# Entrar no site Swag Labs e fazer o login\n",
    "browser.get(\"https://www.saucedemo.com/\")\n",
    "\n",
    "# Colocando as informações de login e senha.\n",
    "browser.find_element('xpath', '//*[@id=\"user-name\"]').send_keys(lines[1][0])\n",
    "browser.find_element('xpath', '//*[@id=\"password\"]').send_keys(lines[1][1])\n",
    "\n",
    "# Finalizando o login.\n",
    "browser.find_element('xpath', '//*[@id=\"login-button\"]').click()"
   ]
  },
  {
   "cell_type": "code",
   "execution_count": 4,
   "id": "f41db31a",
   "metadata": {},
   "outputs": [],
   "source": [
    "# Adicionando Itens ao carrinho.\n",
    "browser.find_element('xpath', '//*[@id=\"add-to-cart-sauce-labs-backpack\"]').click()\n",
    "browser.find_element('xpath', '//*[@id=\"add-to-cart-sauce-labs-bike-light\"]').click()\n",
    "browser.find_element('xpath', '//*[@id=\"add-to-cart-sauce-labs-bolt-t-shirt\"]').click()\n",
    "browser.find_element('xpath', '//*[@id=\"add-to-cart-sauce-labs-fleece-jacket\"]').click()\n",
    "browser.find_element('xpath', '//*[@id=\"add-to-cart-sauce-labs-onesie\"]').click()\n",
    "browser.find_element('xpath', '//*[@id=\"add-to-cart-test.allthethings()-t-shirt-(red)\"]').click()"
   ]
  },
  {
   "cell_type": "code",
   "execution_count": 5,
   "id": "ff31fdda",
   "metadata": {},
   "outputs": [],
   "source": [
    "# Removendo Itens ao carrinho. // Esse foi só uma etapa extra para testar a funcionalidade de remover itens.\n",
    "browser.find_element('xpath', '//*[@id=\"remove-sauce-labs-backpack\"]').click()\n",
    "browser.find_element('xpath', '//*[@id=\"remove-sauce-labs-bike-light\"]').click()\n",
    "browser.find_element('xpath', '//*[@id=\"remove-sauce-labs-bolt-t-shirt\"]').click()\n",
    "browser.find_element('xpath', '//*[@id=\"remove-sauce-labs-fleece-jacket\"]').click()\n",
    "browser.find_element('xpath', '//*[@id=\"remove-sauce-labs-onesie\"]').click()\n",
    "browser.find_element('xpath', '//*[@id=\"remove-test.allthethings()-t-shirt-(red)\"]').click()"
   ]
  },
  {
   "cell_type": "code",
   "execution_count": 6,
   "id": "6e2e683c",
   "metadata": {},
   "outputs": [],
   "source": [
    "# Adicionando Itens ao carrinho.\n",
    "browser.find_element('xpath', '//*[@id=\"add-to-cart-sauce-labs-backpack\"]').click()\n",
    "browser.find_element('xpath', '//*[@id=\"add-to-cart-sauce-labs-bike-light\"]').click()\n",
    "browser.find_element('xpath', '//*[@id=\"add-to-cart-sauce-labs-bolt-t-shirt\"]').click()\n",
    "browser.find_element('xpath', '//*[@id=\"add-to-cart-sauce-labs-fleece-jacket\"]').click()\n",
    "browser.find_element('xpath', '//*[@id=\"add-to-cart-sauce-labs-onesie\"]').click()\n",
    "browser.find_element('xpath', '//*[@id=\"add-to-cart-test.allthethings()-t-shirt-(red)\"]').click()"
   ]
  },
  {
   "cell_type": "code",
   "execution_count": 7,
   "id": "3b8d9ea2",
   "metadata": {},
   "outputs": [],
   "source": [
    "# Visualizar Carrinho após adicionar itens no carrinho.\n",
    "browser.find_element('xpath', '//*[@id=\"shopping_cart_container\"]/a').click()\n"
   ]
  },
  {
   "cell_type": "code",
   "execution_count": 8,
   "id": "1f9d8bbf",
   "metadata": {},
   "outputs": [],
   "source": [
    "# Fazendo o checkout.\n",
    "browser.find_element('xpath', '//*[@id=\"checkout\"]').click()"
   ]
  },
  {
   "cell_type": "code",
   "execution_count": 13,
   "id": "86693f8f",
   "metadata": {},
   "outputs": [],
   "source": [
    "# Colocando as informações de checkout \n",
    "browser.find_element('xpath', '//*[@id=\"first-name\"]').send_keys(lines[1][2])\n",
    "browser.find_element('xpath', '//*[@id=\"last-name\"]').send_keys(lines[1][3])\n",
    "browser.find_element('xpath', '//*[@id=\"postal-code\"]').send_keys(lines[1][4])\n",
    "\n",
    "browser.find_element('xpath', '//*[@id=\"continue\"]').click()"
   ]
  },
  {
   "cell_type": "code",
   "execution_count": 19,
   "id": "f0e5ee8a",
   "metadata": {},
   "outputs": [
    {
     "name": "stdout",
     "output_type": "stream",
     "text": [
      "Total: $140.34\n"
     ]
    }
   ],
   "source": [
    "total = browser.find_element('xpath', '//*[@id=\"checkout_summary_container\"]/div/div[2]/div[8]')\n",
    "print(total.text)"
   ]
  },
  {
   "cell_type": "code",
   "execution_count": null,
   "id": "5bc50521",
   "metadata": {},
   "outputs": [],
   "source": []
  }
 ],
 "metadata": {
  "kernelspec": {
   "display_name": "Python 3 (ipykernel)",
   "language": "python",
   "name": "python3"
  },
  "language_info": {
   "codemirror_mode": {
    "name": "ipython",
    "version": 3
   },
   "file_extension": ".py",
   "mimetype": "text/x-python",
   "name": "python",
   "nbconvert_exporter": "python",
   "pygments_lexer": "ipython3",
   "version": "3.11.5"
  }
 },
 "nbformat": 4,
 "nbformat_minor": 5
}
